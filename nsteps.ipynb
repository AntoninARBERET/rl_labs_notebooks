{
 "cells": [
  {
   "cell_type": "markdown",
   "metadata": {},
   "source": [
    "# N-step Q-learning\n",
    "\n",
    "In this part, we implement the N-step variant of the Q-learning algorithm, using a replay buffer as we did for studying the off-policy property of Q-learning.\n",
    "\n",
    "Using the N-Steps return accelerates the learning process by updating the Q values of $N-1$ states at a time, by recording together succesive states visited by the agent.\n",
    "\n",
    "In this lab, we focus on updating the states visited by the agent when following its policy until he reached its current state."
   ]
  },
  {
   "cell_type": "markdown",
   "metadata": {},
   "source": [
    "### Create a class NStepSample\n",
    "\n",
    "An N-step sample contains N samples, corresponding to N consecutive steps of an agent.\n",
    "\n",
    "In the cell below, import the Sample class from the [on_off_policy.ipynb](on_off_policy.ipynb) notebook and create a class to store an N-step sample."
   ]
  },
  {
   "cell_type": "code",
   "execution_count": 1,
   "metadata": {},
   "outputs": [],
   "source": [
    "from dynamic_programming import *\n",
    "\n",
    "class Sample():\n",
    "    def __init__(self,x, u, r, d, y):\n",
    "        self.state = x\n",
    "        self.action = u\n",
    "        self.reward = r\n",
    "        self.done = d\n",
    "        self.new_state = y"
   ]
  },
  {
   "cell_type": "code",
   "execution_count": 2,
   "metadata": {},
   "outputs": [],
   "source": [
    "\"define NSTepSample class here\"\n",
    "\n",
    "class NStepSample():\n",
    "    def __init__(self, N, sample=None):\n",
    "        self.N = N\n",
    "        self.buffer = collections.deque(maxlen=self.N)\n",
    "        if sample != None:\n",
    "            for i in range(sample.shape[0]):\n",
    "                self.push(sample[i])\n",
    "                    \n",
    "    def push(self, sample, overwrite=True):\n",
    "\n",
    "        \"\"\" If maximum buffer size reached , remove old experience \"\"\"\n",
    "        if len(self.buffer) == self.N:\n",
    "            self.buffer.popleft()\n",
    "\n",
    "        self.buffer.append(sample)\n",
    "\n",
    "    def __len__(self):\n",
    "        return len(self.buffer)\n",
    "\n",
    "    def __iter__(self):\n",
    "        self.n = 0\n",
    "        return self\n",
    "\n",
    "    def __next__(self):\n",
    "\n",
    "        self.n = self.n + 1\n",
    "\n",
    "        if self.n < len(self.buffer):\n",
    "            return self.buffer[self.n]\n",
    "\n",
    "        raise StopIteration\n",
    "\n",
    "    def uniform_sample(self, batch_size=1):\n",
    "        indices = np.random.randint(0, len(self.buffer), batch_size)\n",
    "        experiences = np.array([self.buffer[i] for i in indices])\n",
    "\n",
    "        samples = []\n",
    "\n",
    "        for exp in experiences:\n",
    "            samples.append(exp)\n",
    "\n",
    "        return np.array(samples)\n",
    "\n",
    "\n",
    "    def clear(self):\n",
    "        self.buffer.clear()"
   ]
  },
  {
   "cell_type": "markdown",
   "metadata": {},
   "source": [
    "If this is necessary, adapt your class ReplayBuffer so that it can contain N-step samples instead of simple samples. Maybe no adaptation is necessary if you make so that the class NStepSample inherits from Sample."
   ]
  },
  {
   "cell_type": "code",
   "execution_count": 3,
   "metadata": {},
   "outputs": [],
   "source": [
    "import collections\n",
    "import numpy as np\n",
    "import copy\n",
    "\n",
    "class ReplayBuffer():\n",
    "\n",
    "    def __init__(self, buffer_size,samples=None):\n",
    "        self.buffer_size = buffer_size\n",
    "        self.buffer = collections.deque(maxlen=self.buffer_size)\n",
    "        if samples != None:\n",
    "            for i in range(samples.shape[0]):\n",
    "                self.push(samples[i])\n",
    "\n",
    "    def push(self, sample, overwrite=True):\n",
    "\n",
    "        \"\"\" If maximum buffer size reached , remove old experience \"\"\"\n",
    "        if len(self.buffer) == self.buffer_size:\n",
    "            self.buffer.popleft()\n",
    "\n",
    "        self.buffer.append(sample)\n",
    "\n",
    "    def __len__(self):\n",
    "        return len(self.buffer)\n",
    "\n",
    "    def __iter__(self):\n",
    "        self.n = 0\n",
    "        return self\n",
    "\n",
    "    def __next__(self):\n",
    "\n",
    "        self.n = self.n + 1\n",
    "\n",
    "        if self.n < len(self.buffer):\n",
    "            return self.buffer[self.n]\n",
    "\n",
    "        raise StopIteration\n",
    "\n",
    "    def uniform_sample(self, batch_size=1):\n",
    "        indices = np.random.randint(0, len(self.buffer), batch_size)\n",
    "        experiences = np.array([self.buffer[i] for i in indices])\n",
    "\n",
    "        samples = []\n",
    "\n",
    "        for exp in experiences:\n",
    "            samples.append(exp)\n",
    "\n",
    "        return np.array(samples)\n",
    "\n",
    "\n",
    "    def clear(self):\n",
    "        self.buffer.clear()"
   ]
  },
  {
   "cell_type": "markdown",
   "metadata": {},
   "source": [
    "Create the necessary code so that an agent running a specific policy can fill a replay buffer with the steps it is taking in the environment. After its N-1 first steps, each time the agent takes a step, it adds an N-step sample to the replay buffer. Thus the replay buffer contains samples about the same steps several times, but shifted.\n",
    "\n",
    "![N-step-return|50x50](N-step-return.png)\n",
    "\n",
    "Create a function which, given a policy, a replay buffer and a number of steps N (take for instance N = 5) runs a simulation of the agent in its environment.\n",
    "    \n",
    "After the agent's N-1 first steps, start saving, at each step, the N data (state + action + reward) gathered into the replay buffer. In order to do that, use the NStepSample objects."
   ]
  },
  {
   "cell_type": "code",
   "execution_count": 4,
   "metadata": {},
   "outputs": [],
   "source": [
    "import copy\n",
    "\n",
    "def fillReplayBuffer(mdp, policy, buffer_size, N):\n",
    "\n",
    "    nstepsample = NStepSample(N)\n",
    "    x = mdp.reset(uniform=True)\n",
    "    done = mdp.done()\n",
    "    while nstepsample.__len__() < N and not done:\n",
    "        u = policy[x]\n",
    "        [y,r,done,info] = mdp.step(u)\n",
    "        sample = Sample(x,u,r,done,y)\n",
    "        nstepsample.push(sample)\n",
    "        x = y\n",
    "\n",
    "    replay_buffer = ReplayBuffer(buffer_size)    \n",
    "    for _ in range(buffer_size) :\n",
    "        if not done:\n",
    "            u = policy[x]\n",
    "            [y,r,done,info] = mdp.step(u)\n",
    "            sample = Sample(x,u,r,done,y)\n",
    "            nstepsample = copy.deepcopy(nstepsample)\n",
    "            nstepsample.push(sample)\n",
    "            x = y\n",
    "            replay_buffer.push(nstepsample)\n",
    "        else:\n",
    "            x = mdp.reset(uniform=True) \n",
    "            done = mdp.done()\n",
    "            nstepsample = NStepSample(N)\n",
    "            while nstepsample.__len__() < N and not done:\n",
    "                u = policy[x]\n",
    "                [y,r,done,info] = mdp.step(u)\n",
    "                sample = Sample(x,u,r,done,y)\n",
    "                nstepsample.push(sample)\n",
    "                x = y\n",
    "                \n",
    "    return replay_buffer"
   ]
  },
  {
   "cell_type": "code",
   "execution_count": 11,
   "metadata": {},
   "outputs": [],
   "source": [
    "from mdp import maze_mdp\n",
    "import dynamic_programming as dp\n",
    "\n",
    "walls = [6,17,18,19]\n",
    "height = 5\n",
    "width = 5\n",
    "m = maze_mdp(width, height, walls=walls, terminal_states=[height*width-1]) # maze-like MDP definition\n",
    "\n",
    "[Q_list, policy_list] = dp.VI_Q(m,render=False)\n",
    "\n",
    "replay_buffer = fillReplayBuffer(m, policy_list[-1], buffer_size = 10000, N=3)"
   ]
  },
  {
   "cell_type": "markdown",
   "metadata": {},
   "source": [
    "Copy-paste your modified Q-learning code from the [on_off_policy.ipynb](on_off_policy.ipynb) notebook.\n",
    "Modify it again so that it takes N-step samples as input rather than single samples.\n",
    "\n",
    "Hint : You can generate two Q-tables in your Q-Learning algorithm, one that performs the nsteps update and one that doesn't, this will help you analyze your results."
   ]
  },
  {
   "cell_type": "code",
   "execution_count": 12,
   "metadata": {},
   "outputs": [],
   "source": [
    "import numpy as np\n",
    "from toolbox import softmax\n",
    "\n",
    "########################### Q-Learning ###########################\n",
    "    \n",
    "# Given a temperature \"tau\", the QLearning function computes the state action-value function \n",
    "# based on a softmax policy \n",
    "def NStep_QLearning(mdp,replay_buffer,tau=1,nSample=1000,test_conv=False, alpha=0.01):\n",
    "    if(test_conv):\n",
    "        [VI_Q_list, VI_policy_list] = VI_Q(mdp,render=False)\n",
    "    # Initialize the state-action value function\n",
    "    # alpha is the learning rate\n",
    "    Q = np.zeros((mdp.observation_space.size,mdp.action_space.size))\n",
    "    \n",
    "    Q_list = []\n",
    "    policy_list = []\n",
    "\n",
    "    if(test_conv):\n",
    "        nb_step=0\n",
    "        conv= False\n",
    "    for i in range(nSample) :\n",
    "\n",
    "        # Perform a step of the MDP\n",
    "        nstepsample = replay_buffer.uniform_sample()[0]\n",
    "        \n",
    "        for sample in nstepsample.buffer:\n",
    "            \n",
    "            x,u,r,done,y = sample.state, sample.action, sample.reward, sample.done, sample.new_state\n",
    "\n",
    "            # Update the state-action value function with Q-Learning\n",
    "            if x in mdp.terminal_states:\n",
    "                Q[x,u] = r\n",
    "            else:\n",
    "                delta = r + mdp.gamma*np.max(Q[y])-Q[x,u]\n",
    "                Q[x,u] = Q[x,u] + alpha*delta\n",
    "\n",
    "        # Save state-action value after each NStepSample\n",
    "        Q_list.append(Q.copy())\n",
    "        policy_list.append(Q.argmax(axis=1))\n",
    "        \n",
    "        if(test_conv and not conv):\n",
    "            nb_step+=1\n",
    "            if np.linalg.norm(Q-VI_Q_list[-1])<= 0.01 :\n",
    "                conv=True\n",
    "                print(\"Step to conv \", nb_step)\n",
    "                return [Q_list, policy_list]\n",
    "            \n",
    "    return [Q_list, policy_list]"
   ]
  },
  {
   "cell_type": "markdown",
   "metadata": {},
   "source": [
    "Finally, write a code that:\n",
    "\n",
    "* creates a replay buffer with a size of 10.000 samples, fills it with N-step samples coming from an agent running one or several different policies,\n",
    "* makes Q-learning learn from samples drawn uniformly from this replay buffer, until a fixed number of episodes ,\n",
    "* visualizes the results.\n",
    "\n",
    " \n",
    "Hint : you can play with your algorithm, using different policies when generating your samples, updating your ReplayBuffer in the Q-Learning algorithm above with newly generated samples from your policy and increasing either the size of the buffer or the number of episodes. You can then compare the effectiveness of the different variations of your algorithm."
   ]
  },
  {
   "cell_type": "code",
   "execution_count": 16,
   "metadata": {},
   "outputs": [],
   "source": [
    "Qlist, policy_list = NStep_QLearning(m,replay_buffer,tau=1,nSample=100000,alpha=0.1)"
   ]
  },
  {
   "cell_type": "code",
   "execution_count": 17,
   "metadata": {},
   "outputs": [
    {
     "data": {
      "image/png": "[encoded data removed]",
      "text/plain": [
       "<matplotlib.figure.Figure at 0x1103cc5f8>"
      ]
     },
     "metadata": {},
     "output_type": "display_data"
    }
   ],
   "source": [
    "# visualize your results\n",
    "%matplotlib inline\n",
    "\n",
    "m.new_render()\n",
    "m.render(Qlist[-1], policy_list[-1])"
   ]
  },
  {
   "cell_type": "code",
   "execution_count": null,
   "metadata": {},
   "outputs": [],
   "source": []
  }
 ],
 "metadata": {
  "kernelspec": {
   "display_name": "Python 3",
   "language": "python",
   "name": "python3"
  },
  "language_info": {
   "codemirror_mode": {
    "name": "ipython",
    "version": 3
   },
   "file_extension": ".py",
   "mimetype": "text/x-python",
   "name": "python",
   "nbconvert_exporter": "python",
   "pygments_lexer": "ipython3",
   "version": "3.6.4"
  }
 },
 "nbformat": 4,
 "nbformat_minor": 4
}
