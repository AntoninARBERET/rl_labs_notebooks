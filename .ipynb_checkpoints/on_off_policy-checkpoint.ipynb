{
 "cells": [
  {
   "cell_type": "markdown",
   "metadata": {},
   "source": [
    "# Understanding on-policy and off-policy properties \n",
    "\n",
    "In this part, we investigate the difference between the off-policy property of Q-learning and the on-policy property of SARSA. For doing so, we will feed the critic of these algorithms with off-policy data stored into a replay buffer.\n",
    "Using a replay buffer is not mandatory when using random uniform samples, but using this approach makes the architecture more flexible for later experiments."
   ]
  },
  {
   "cell_type": "markdown",
   "metadata": {},
   "source": [
    "### Create a class Sample\n",
    "\n",
    "A sample contains the following information : the current state, the current action, the resulting reward, and the resulting next state.\n",
    "\n",
    "In the cell below, create a class to store a sample"
   ]
  },
  {
   "cell_type": "code",
   "execution_count": 9,
   "metadata": {},
   "outputs": [],
   "source": [
    "class Sample():\n",
    "    def __init__(self,x, u, r, d, y):\n",
    "        self.state = x\n",
    "        self.action = u\n",
    "        self.reward = r\n",
    "        self.done = d\n",
    "        self.new_state = y"
   ]
  },
  {
   "cell_type": "markdown",
   "metadata": {},
   "source": [
    "### Create a class ReplayBuffer\n",
    "\n",
    "A replay buffer is a FIFO list of samples with a limited size (often set to 10^6). \n",
    "\n",
    "In the cell below, create a class ReplayBuffer. Give it a method __add(sample)__ to add a sample, a method __draw()__ to draw a sample randomly"
   ]
  },
  {
   "cell_type": "code",
   "execution_count": 10,
   "metadata": {},
   "outputs": [],
   "source": [
    "import collections\n",
    "import numpy as np\n",
    "import copy\n",
    "\n",
    "class ReplayBuffer():\n",
    "\n",
    "    def __init__(self, buffer_size,sample=None):\n",
    "        self.buffer_size = buffer_size\n",
    "        self.buffer = collections.deque(maxlen=self.buffer_size)\n",
    "        if sample != None:\n",
    "            for i in range(sample.shape[0]):\n",
    "                self.push(sample[i])\n",
    "\n",
    "    def push(self, sample, overwrite=True):\n",
    "\n",
    "        \"\"\" If maximum buffer size reached , remove old experience \"\"\"\n",
    "        if len(self.buffer) == self.buffer_size:\n",
    "            self.buffer.popleft()\n",
    "\n",
    "        self.buffer.append(sample)\n",
    "\n",
    "    def __len__(self):\n",
    "        return len(self.buffer)\n",
    "\n",
    "    def __iter__(self):\n",
    "        self.n = 0\n",
    "        return self\n",
    "\n",
    "    def __next__(self):\n",
    "\n",
    "        self.n = self.n + 1\n",
    "\n",
    "        if self.n < len(self.buffer):\n",
    "            return self.buffer[self.n]\n",
    "\n",
    "        raise StopIteration\n",
    "\n",
    "    def uniform_sample(self, batch_size=1):\n",
    "        indices = np.random.randint(0, len(self.buffer), batch_size)\n",
    "        experiences = np.array([self.buffer[i] for i in indices])\n",
    "\n",
    "        samples = []\n",
    "\n",
    "        for exp in experiences:\n",
    "            samples.append(exp)\n",
    "\n",
    "        return np.array(samples)\n",
    "\n",
    "\n",
    "    def clear(self):\n",
    "        self.buffer.clear()"
   ]
  },
  {
   "cell_type": "markdown",
   "metadata": {},
   "source": [
    "In your mdp class, add a method __uniformSampling()__ which returns a randomly generated sample: it draws a state and an action at random, provides the corresponding reward and next state, stores these into a sample and returns that sample."
   ]
  },
  {
   "cell_type": "markdown",
   "metadata": {},
   "source": [
    "In the box below, get your Q-learning code from [reinforcement_learning.ipynb](reinforcement_learning.ipynb), and copy-paste it."
   ]
  },
  {
   "cell_type": "code",
   "execution_count": 23,
   "metadata": {},
   "outputs": [],
   "source": [
    "import numpy as np\n",
    "from toolbox import softmax\n",
    "\n",
    "########################### Q-Learning ###########################\n",
    "    \n",
    "# Given a temperature \"tau\", the QLearning function computes the state action-value function \n",
    "# based on a softmax policy \n",
    "def QLearning(mdp,replay_buffer,tau=1,nTimesteps=10000,alpha=0.01):\n",
    "    # Initialize the state-action value function\n",
    "    # alpha is the learning rate\n",
    "    Q = np.zeros((mdp.observation_space.size,mdp.action_space.size))\n",
    "    \n",
    "    Q_list = []\n",
    "    policy_list = []\n",
    "    \n",
    "    # Run learning cycle\n",
    "    mdp.timeout = nTimesteps #episode length\n",
    "        \n",
    "    for i in range(nTimesteps) :\n",
    "\n",
    "        # Perform a step of the MDP\n",
    "        sample = replay_buffer.uniform_sample()\n",
    "        x,u,r,done,y = sample[0].state, sample[0].action, sample[0].reward, sample[0].done, sample[0].new_state\n",
    "\n",
    "        # Update the state-action value function with Q-Learning\n",
    "        if x in mdp.terminal_states:\n",
    "            Q[x,u] = r\n",
    "        else:\n",
    "            delta = r + mdp.gamma*np.max(Q[y])-Q[x,u]\n",
    "            Q[x,u] = Q[x,u] + alpha*delta\n",
    "\n",
    "        # Update agent's position\n",
    "        x = y\n",
    "            \n",
    "        # Save state-action value after each episode\n",
    "        Q_list.append(Q.copy())\n",
    "        policy_list.append(Q.argmax(axis=1))\n",
    "\n",
    "    return [Q_list, policy_list]"
   ]
  },
  {
   "cell_type": "markdown",
   "metadata": {},
   "source": [
    "Modify the above code so that, instead of being fed by the samples of an agent running its current policy, the Q-table is fed by samples drawn randomly from the replay buffer.\n"
   ]
  },
  {
   "cell_type": "markdown",
   "metadata": {},
   "source": [
    "### Writing the main code\n",
    " \n",
    " Below, write a code that:\n",
    " * creates a replay buffer containing 10.000 samples drawn uniformly from the mdp,\n",
    " * makes Q-learning learn from samples drawn uniformly from the replay buffer for a fixed number of episodes,\n",
    " * visualizes the results.\n"
   ]
  },
  {
   "cell_type": "code",
   "execution_count": 24,
   "metadata": {},
   "outputs": [],
   "source": [
    "from mdp import maze_mdp\n",
    "\n",
    "walls = [6,17,18,19]\n",
    "height = 5\n",
    "width = 5\n",
    "m = maze_mdp(width, height, walls=walls, terminal_states=[height*width-1]) # maze-like MDP definition\n",
    "\n",
    "replay_buffer = ReplayBuffer(10000)\n",
    "for _ in range(10000):\n",
    "    x = m.reset(uniform=True)\n",
    "    u = m.action_space.sample()\n",
    "    [y,r,done,info] = m.step(u)\n",
    "    sample = Sample(x,u,r,done,y)\n",
    "    replay_buffer.push(sample)\n",
    "    \n",
    "Qlist, policy_list = QLearning(m,replay_buffer,tau=1,nTimesteps=100000,alpha=0.01)"
   ]
  },
  {
   "cell_type": "code",
   "execution_count": 25,
   "metadata": {},
   "outputs": [
    {
     "data": {
      "image/png": "[encoded data removed]",
      "text/plain": [
       "<Figure size 360x360 with 1 Axes>"
      ]
     },
     "metadata": {},
     "output_type": "display_data"
    }
   ],
   "source": [
    "from maze_plotter import maze_plotter\n",
    "\n",
    "m.new_render()\n",
    "m.render(Qlist[-1], policy_list[-1])"
   ]
  },
  {
   "cell_type": "markdown",
   "metadata": {},
   "source": [
    "What do you observe? Is this algorithm converging to an optimal Q-table?"
   ]
  },
  {
   "cell_type": "markdown",
   "metadata": {},
   "source": [
    "Now, do the same with SARSA: import it below, and modify it as you did for Q-learning (or just change your modified Q-learning into a modified SARSA below, this is easier).\n"
   ]
  },
  {
   "cell_type": "code",
   "execution_count": null,
   "metadata": {
    "collapsed": true,
    "jupyter": {
     "outputs_hidden": true
    }
   },
   "outputs": [],
   "source": [
    "\"write your SARSA code here\""
   ]
  },
  {
   "cell_type": "code",
   "execution_count": null,
   "metadata": {
    "collapsed": true,
    "jupyter": {
     "outputs_hidden": true
    }
   },
   "outputs": [],
   "source": [
    "\"run your modified SARSA code here\""
   ]
  },
  {
   "cell_type": "code",
   "execution_count": null,
   "metadata": {
    "collapsed": true,
    "jupyter": {
     "outputs_hidden": true
    }
   },
   "outputs": [],
   "source": [
    "\"visualize your results here\""
   ]
  },
  {
   "cell_type": "markdown",
   "metadata": {},
   "source": [
    "Again, what do you observe? Is this algorithm converging to an optimal Q-table?\n",
    "Discuss the difference.\n",
    "To go further and better understand the convergence properties of SARSA, read [the paper where its convergence was proven](https://link.springer.com/content/pdf/10.1023/A:1007678930559.pdf)"
   ]
  }
 ],
 "metadata": {
  "kernelspec": {
   "display_name": "Python 3",
   "language": "python",
   "name": "python3"
  },
  "language_info": {
   "codemirror_mode": {
    "name": "ipython",
    "version": 3
   },
   "file_extension": ".py",
   "mimetype": "text/x-python",
   "name": "python",
   "nbconvert_exporter": "python",
   "pygments_lexer": "ipython3",
   "version": "3.7.4"
  }
 },
 "nbformat": 4,
 "nbformat_minor": 4
}
